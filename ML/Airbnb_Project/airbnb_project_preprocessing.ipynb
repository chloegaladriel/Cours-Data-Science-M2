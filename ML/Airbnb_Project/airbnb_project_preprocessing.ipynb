{
 "cells": [
  {
   "metadata": {},
   "cell_type": "markdown",
   "source": [
    "# Airbnb Price Prediction Project - Preprocessing\n",
    "\n",
    "## Setup and Data Loading"
   ],
   "id": "13e2a2b939efb1c4"
  },
  {
   "metadata": {
    "ExecuteTime": {
     "end_time": "2025-07-03T12:24:14.679344Z",
     "start_time": "2025-07-03T12:24:14.677269Z"
    }
   },
   "cell_type": "code",
   "source": [
    "# Imports\n",
    "import pandas as pd\n",
    "import numpy as np\n",
    "from sklearn.preprocessing import StandardScaler\n",
    "\n",
    "import warnings\n",
    "import joblib\n",
    "warnings.filterwarnings('ignore')"
   ],
   "id": "e3f306fd51f359c9",
   "outputs": [],
   "execution_count": 69
  },
  {
   "metadata": {
    "ExecuteTime": {
     "end_time": "2025-07-03T12:24:15.887626Z",
     "start_time": "2025-07-03T12:24:14.731904Z"
    }
   },
   "cell_type": "code",
   "source": [
    "# Load data\n",
    "train_data = pd.read_csv('airbnb_train.csv')\n",
    "test_data = pd.read_csv('airbnb_test.csv')\n",
    "\n",
    "print(f\"Training data shape: {train_data.shape}\")\n",
    "print(f\"Test data shape: {test_data.shape}\")\n",
    "\n",
    "# Combine for consistent preprocessing\n",
    "train_size = len(train_data)\n",
    "y_train = train_data['log_price'].copy()\n",
    "combined_data = pd.concat([train_data.drop('log_price', axis=1), test_data], ignore_index=True)\n",
    "print(f\"Combined data shape: {combined_data.shape}\")"
   ],
   "id": "21f28840133b30de",
   "outputs": [
    {
     "name": "stdout",
     "output_type": "stream",
     "text": [
      "Training data shape: (22234, 28)\n",
      "Test data shape: (51877, 27)\n",
      "Combined data shape: (74111, 28)\n"
     ]
    }
   ],
   "execution_count": 70
  },
  {
   "metadata": {},
   "cell_type": "markdown",
   "source": "## 1. Missing Values Treatment",
   "id": "946fa9040d5caa5a"
  },
  {
   "metadata": {
    "ExecuteTime": {
     "end_time": "2025-07-03T12:24:15.942216Z",
     "start_time": "2025-07-03T12:24:15.889143Z"
    }
   },
   "cell_type": "code",
   "source": [
    "# Analyze missing values in combined dataset\n",
    "missing_info = combined_data.isnull().sum()\n",
    "missing_pct = (missing_info / len(combined_data)) * 100\n",
    "missing_df = pd.DataFrame({\n",
    "    'Column': missing_info.index,\n",
    "    'Missing_Count': missing_info.values,\n",
    "    'Missing_Percentage': missing_pct.values\n",
    "})\n",
    "missing_df = missing_df[missing_df['Missing_Count'] > 0].sort_values('Missing_Percentage', ascending=False)\n",
    "print(\"Missing values in combined dataset:\")\n",
    "display(missing_df)"
   ],
   "id": "72825e6ceabd473f",
   "outputs": [
    {
     "name": "stdout",
     "output_type": "stream",
     "text": [
      "Missing values in combined dataset:\n"
     ]
    },
    {
     "data": {
      "text/plain": [
       "                    Column  Missing_Count  Missing_Percentage\n",
       "0                       id          51877           69.999055\n",
       "27              Unnamed: 0          22234           30.000945\n",
       "14      host_response_rate          18299           24.691341\n",
       "23    review_scores_rating          16722           22.563452\n",
       "11            first_review          15864           21.405729\n",
       "17             last_review          15827           21.355804\n",
       "21           neighbourhood           6872            9.272578\n",
       "24                 zipcode            966            1.303450\n",
       "5                bathrooms            200            0.269865\n",
       "12    host_has_profile_pic            188            0.253674\n",
       "13  host_identity_verified            188            0.253674\n",
       "15              host_since            188            0.253674\n",
       "26                    beds            131            0.176762\n",
       "25                bedrooms             91            0.122789"
      ],
      "text/html": [
       "<div>\n",
       "<style scoped>\n",
       "    .dataframe tbody tr th:only-of-type {\n",
       "        vertical-align: middle;\n",
       "    }\n",
       "\n",
       "    .dataframe tbody tr th {\n",
       "        vertical-align: top;\n",
       "    }\n",
       "\n",
       "    .dataframe thead th {\n",
       "        text-align: right;\n",
       "    }\n",
       "</style>\n",
       "<table border=\"1\" class=\"dataframe\">\n",
       "  <thead>\n",
       "    <tr style=\"text-align: right;\">\n",
       "      <th></th>\n",
       "      <th>Column</th>\n",
       "      <th>Missing_Count</th>\n",
       "      <th>Missing_Percentage</th>\n",
       "    </tr>\n",
       "  </thead>\n",
       "  <tbody>\n",
       "    <tr>\n",
       "      <th>0</th>\n",
       "      <td>id</td>\n",
       "      <td>51877</td>\n",
       "      <td>69.999055</td>\n",
       "    </tr>\n",
       "    <tr>\n",
       "      <th>27</th>\n",
       "      <td>Unnamed: 0</td>\n",
       "      <td>22234</td>\n",
       "      <td>30.000945</td>\n",
       "    </tr>\n",
       "    <tr>\n",
       "      <th>14</th>\n",
       "      <td>host_response_rate</td>\n",
       "      <td>18299</td>\n",
       "      <td>24.691341</td>\n",
       "    </tr>\n",
       "    <tr>\n",
       "      <th>23</th>\n",
       "      <td>review_scores_rating</td>\n",
       "      <td>16722</td>\n",
       "      <td>22.563452</td>\n",
       "    </tr>\n",
       "    <tr>\n",
       "      <th>11</th>\n",
       "      <td>first_review</td>\n",
       "      <td>15864</td>\n",
       "      <td>21.405729</td>\n",
       "    </tr>\n",
       "    <tr>\n",
       "      <th>17</th>\n",
       "      <td>last_review</td>\n",
       "      <td>15827</td>\n",
       "      <td>21.355804</td>\n",
       "    </tr>\n",
       "    <tr>\n",
       "      <th>21</th>\n",
       "      <td>neighbourhood</td>\n",
       "      <td>6872</td>\n",
       "      <td>9.272578</td>\n",
       "    </tr>\n",
       "    <tr>\n",
       "      <th>24</th>\n",
       "      <td>zipcode</td>\n",
       "      <td>966</td>\n",
       "      <td>1.303450</td>\n",
       "    </tr>\n",
       "    <tr>\n",
       "      <th>5</th>\n",
       "      <td>bathrooms</td>\n",
       "      <td>200</td>\n",
       "      <td>0.269865</td>\n",
       "    </tr>\n",
       "    <tr>\n",
       "      <th>12</th>\n",
       "      <td>host_has_profile_pic</td>\n",
       "      <td>188</td>\n",
       "      <td>0.253674</td>\n",
       "    </tr>\n",
       "    <tr>\n",
       "      <th>13</th>\n",
       "      <td>host_identity_verified</td>\n",
       "      <td>188</td>\n",
       "      <td>0.253674</td>\n",
       "    </tr>\n",
       "    <tr>\n",
       "      <th>15</th>\n",
       "      <td>host_since</td>\n",
       "      <td>188</td>\n",
       "      <td>0.253674</td>\n",
       "    </tr>\n",
       "    <tr>\n",
       "      <th>26</th>\n",
       "      <td>beds</td>\n",
       "      <td>131</td>\n",
       "      <td>0.176762</td>\n",
       "    </tr>\n",
       "    <tr>\n",
       "      <th>25</th>\n",
       "      <td>bedrooms</td>\n",
       "      <td>91</td>\n",
       "      <td>0.122789</td>\n",
       "    </tr>\n",
       "  </tbody>\n",
       "</table>\n",
       "</div>"
      ]
     },
     "metadata": {},
     "output_type": "display_data"
    }
   ],
   "execution_count": 71
  },
  {
   "metadata": {
    "ExecuteTime": {
     "end_time": "2025-07-03T12:24:16.182095Z",
     "start_time": "2025-07-03T12:24:15.943014Z"
    }
   },
   "cell_type": "code",
   "source": [
    "# Handle missing values\n",
    "print(\"=== MISSING VALUES BEFORE TREATMENT ===\")\n",
    "missing_before = combined_data.isnull().sum().sum()\n",
    "print(f\"Total missing values: {missing_before}\")\n",
    "\n",
    "def handle_missing_values(df):\n",
    "    df = df.copy()\n",
    "    \n",
    "    # Numerical features - impute with median\n",
    "    numerical_cols = ['bathrooms', 'bedrooms', 'beds', 'review_scores_rating']\n",
    "    for col in numerical_cols:\n",
    "        if col in df.columns:\n",
    "            median_val = df[col].median()\n",
    "            df[col] = df[col].fillna(median_val)\n",
    "            print(f\"{col}: filled {df[col].isnull().sum()} missing values with {median_val}\")\n",
    "    \n",
    "    # Review-related features - fill with 0 (no reviews yet)\n",
    "    review_cols = ['number_of_reviews']\n",
    "    for col in review_cols:\n",
    "        if col in df.columns:\n",
    "            df[col] = df[col].fillna(0)\n",
    "    \n",
    "    # Host response rate - convert to numerical and fill with median\n",
    "    if 'host_response_rate' in df.columns:\n",
    "        # First convert percentage strings to float, handling NaN values\n",
    "        df['host_response_rate'] = df['host_response_rate'].astype(str).str.replace('%', '')\n",
    "        df['host_response_rate'] = pd.to_numeric(df['host_response_rate'], errors='coerce')\n",
    "        median_response = df['host_response_rate'].median()\n",
    "        missing_count = df['host_response_rate'].isnull().sum()\n",
    "        df['host_response_rate'] = df['host_response_rate'].fillna(median_response)\n",
    "        print(f\"host_response_rate: filled {missing_count} missing values with {median_response}\")\n",
    "    \n",
    "    # Categorical features - fill with 'Unknown'\n",
    "    categorical_cols = ['neighbourhood', 'zipcode', 'host_has_profile_pic', 'host_identity_verified']\n",
    "    for col in categorical_cols:\n",
    "        if col in df.columns:\n",
    "            missing_count = df[col].isnull().sum()\n",
    "            df[col] = df[col].fillna('Unknown')\n",
    "            print(f\"{col}: filled {missing_count} missing values with 'Unknown'\")\n",
    "    \n",
    "    # Date features - keep as NaN for now, will handle in temporal feature engineering\n",
    "    date_cols = ['first_review', 'last_review', 'host_since']\n",
    "    for col in date_cols:\n",
    "        if col in df.columns:\n",
    "            print(f\"{col}: {df[col].isnull().sum()} missing values (will handle in temporal features)\")\n",
    "    \n",
    "    return df\n",
    "\n",
    "combined_data = handle_missing_values(combined_data)\n",
    "\n",
    "print(\"\\n=== MISSING VALUES AFTER TREATMENT ===\")\n",
    "missing_after = combined_data.isnull().sum().sum()\n",
    "print(f\"Total missing values: {missing_after}\")\n",
    "print(f\"Reduction: {missing_before - missing_after} values\")\n",
    "\n",
    "# Show remaining missing values\n",
    "remaining_missing = combined_data.isnull().sum()\n",
    "remaining_missing = remaining_missing[remaining_missing > 0]\n",
    "if len(remaining_missing) > 0:\n",
    "    print(f\"\\nRemaining missing values:\")\n",
    "    for col, count in remaining_missing.items():\n",
    "        print(f\"  {col}: {count}\")\n",
    "else:\n",
    "    print(\"\\nNo missing values remaining!\")"
   ],
   "id": "dcc398eb490f0001",
   "outputs": [
    {
     "name": "stdout",
     "output_type": "stream",
     "text": [
      "=== MISSING VALUES BEFORE TREATMENT ===\n",
      "Total missing values: 149647\n",
      "bathrooms: filled 0 missing values with 1.0\n",
      "bedrooms: filled 0 missing values with 1.0\n",
      "beds: filled 0 missing values with 1.0\n",
      "review_scores_rating: filled 0 missing values with 96.0\n",
      "host_response_rate: filled 18299 missing values with 100.0\n",
      "neighbourhood: filled 6872 missing values with 'Unknown'\n",
      "zipcode: filled 966 missing values with 'Unknown'\n",
      "host_has_profile_pic: filled 188 missing values with 'Unknown'\n",
      "host_identity_verified: filled 188 missing values with 'Unknown'\n",
      "first_review: 15864 missing values (will handle in temporal features)\n",
      "last_review: 15827 missing values (will handle in temporal features)\n",
      "host_since: 188 missing values (will handle in temporal features)\n",
      "\n",
      "=== MISSING VALUES AFTER TREATMENT ===\n",
      "Total missing values: 105990\n",
      "Reduction: 43657 values\n",
      "\n",
      "Remaining missing values:\n",
      "  id: 51877\n",
      "  first_review: 15864\n",
      "  host_since: 188\n",
      "  last_review: 15827\n",
      "  Unnamed: 0: 22234\n"
     ]
    }
   ],
   "execution_count": 72
  },
  {
   "metadata": {
    "ExecuteTime": {
     "end_time": "2025-07-03T12:24:16.282077Z",
     "start_time": "2025-07-03T12:24:16.183639Z"
    }
   },
   "cell_type": "code",
   "source": [
    "# Clean problematic columns\n",
    "print(\"=== CLEANING PROBLEMATIC COLUMNS ===\")\n",
    "\n",
    "# Drop the unnamed column (artifact from CSV)\n",
    "if 'Unnamed: 0' in combined_data.columns:\n",
    "    combined_data = combined_data.drop('Unnamed: 0', axis=1)\n",
    "    print(\"Dropped 'Unnamed: 0' column\")\n",
    "\n",
    "# Check ID column\n",
    "print(f\"\\nID column analysis:\")\n",
    "print(f\"- Total rows: {len(combined_data)}\")\n",
    "print(f\"- Missing IDs: {combined_data['id'].isnull().sum()}\")\n",
    "print(f\"- Unique IDs: {combined_data['id'].nunique()}\")\n",
    "\n",
    "# If more than 50% of IDs are missing, there might be a data loading issue\n",
    "if combined_data['id'].isnull().sum() > len(combined_data) * 0.5:\n",
    "    print(\"⚠️  WARNING: More than 50% of IDs are missing!\")\n",
    "    print(\"This suggests a data loading or concatenation issue.\")\n",
    "    \n",
    "    # Check if the issue comes from train/test split\n",
    "    train_ids_missing = combined_data[:train_size]['id'].isnull().sum()\n",
    "    test_ids_missing = combined_data[train_size:]['id'].isnull().sum()\n",
    "    print(f\"- Missing IDs in train portion: {train_ids_missing}\")\n",
    "    print(f\"- Missing IDs in test portion: {test_ids_missing}\")\n",
    "\n",
    "print(f\"\\n=== FINAL MISSING VALUES SUMMARY ===\")\n",
    "final_missing = combined_data.isnull().sum().sum()\n",
    "print(f\"Total missing values after cleanup: {final_missing}\")\n",
    "\n",
    "remaining_missing = combined_data.isnull().sum()\n",
    "remaining_missing = remaining_missing[remaining_missing > 0]\n",
    "if len(remaining_missing) > 0:\n",
    "    print(f\"Remaining missing values by column:\")\n",
    "    for col, count in remaining_missing.items():\n",
    "        pct = (count / len(combined_data)) * 100\n",
    "        print(f\"  {col}: {count} ({pct:.1f}%)\")"
   ],
   "id": "3fa53c7e015a58ad",
   "outputs": [
    {
     "name": "stdout",
     "output_type": "stream",
     "text": [
      "=== CLEANING PROBLEMATIC COLUMNS ===\n",
      "Dropped 'Unnamed: 0' column\n",
      "\n",
      "ID column analysis:\n",
      "- Total rows: 74111\n",
      "- Missing IDs: 51877\n",
      "- Unique IDs: 22234\n",
      "⚠️  WARNING: More than 50% of IDs are missing!\n",
      "This suggests a data loading or concatenation issue.\n",
      "- Missing IDs in train portion: 0\n",
      "- Missing IDs in test portion: 51877\n",
      "\n",
      "=== FINAL MISSING VALUES SUMMARY ===\n",
      "Total missing values after cleanup: 83756\n",
      "Remaining missing values by column:\n",
      "  id: 51877 (70.0%)\n",
      "  first_review: 15864 (21.4%)\n",
      "  host_since: 188 (0.3%)\n",
      "  last_review: 15827 (21.4%)\n"
     ]
    }
   ],
   "execution_count": 73
  },
  {
   "metadata": {},
   "cell_type": "markdown",
   "source": [
    "## Missing Values Treatment Summary\n",
    "\n",
    "### Initial State: 149,647 missing values across 74,111 rows\n",
    "- **Major gaps:** Review data (21%), host response rate (25%), geographic info (9%)\n",
    "- **Test set IDs missing (70%) - normal for competition datasets**\n",
    "\n",
    "### Treatment Applied\n",
    "- **Numerical:** Median imputation (bathrooms, bedrooms, beds, review_scores_rating)\n",
    "- **Categorical:** 'Unknown' for neighbourhood, zipcode, host info\n",
    "- **Special:** Converted host_response_rate from percentage strings to numeric\n",
    "\n",
    "### Result: \n",
    "43,657 values fixed, 83,756 remaining (only dates + test IDs - acceptable)"
   ],
   "id": "bbdce0d3a174aa28"
  },
  {
   "metadata": {},
   "cell_type": "markdown",
   "source": "## 2. Feature Engineering",
   "id": "84307f169084f2f3"
  },
  {
   "metadata": {
    "ExecuteTime": {
     "end_time": "2025-07-03T12:24:17.359343Z",
     "start_time": "2025-07-03T12:24:16.283076Z"
    }
   },
   "cell_type": "code",
   "source": [
    "# Text features engineering\n",
    "def create_text_features(df):\n",
    "    df = df.copy()\n",
    "    \n",
    "    # Description features\n",
    "    if 'description' in df.columns:\n",
    "        df['description_length'] = df['description'].astype(str).str.len()\n",
    "        df['description_word_count'] = df['description'].astype(str).str.split().str.len()\n",
    "    \n",
    "    # Amenities features\n",
    "    if 'amenities' in df.columns:\n",
    "        df['amenities_count'] = df['amenities'].astype(str).str.count(',') + 1\n",
    "        \n",
    "        # Extract popular amenities\n",
    "        amenities_text = df['amenities'].astype(str).str.lower()\n",
    "        df['has_wifi'] = amenities_text.str.contains('wifi|internet', na=False).astype(int)\n",
    "        df['has_kitchen'] = amenities_text.str.contains('kitchen', na=False).astype(int)\n",
    "        df['has_tv'] = amenities_text.str.contains('tv', na=False).astype(int)\n",
    "        df['has_ac'] = amenities_text.str.contains('air conditioning|ac', na=False).astype(int)\n",
    "        df['has_parking'] = amenities_text.str.contains('parking', na=False).astype(int)\n",
    "        df['has_pool'] = amenities_text.str.contains('pool', na=False).astype(int)\n",
    "        df['has_gym'] = amenities_text.str.contains('gym|fitness', na=False).astype(int)\n",
    "    \n",
    "    return df\n",
    "\n",
    "combined_data = create_text_features(combined_data)\n",
    "print(\"Text features created successfully\")"
   ],
   "id": "9276faaa6cb06165",
   "outputs": [
    {
     "name": "stdout",
     "output_type": "stream",
     "text": [
      "Text features created successfully\n"
     ]
    }
   ],
   "execution_count": 74
  },
  {
   "metadata": {
    "ExecuteTime": {
     "end_time": "2025-07-03T12:24:17.412213Z",
     "start_time": "2025-07-03T12:24:17.360354Z"
    }
   },
   "cell_type": "code",
   "source": [
    "# Temporal features engineering\n",
    "def create_temporal_features(df):\n",
    "    df = df.copy()\n",
    "    \n",
    "    # Convert date columns\n",
    "    date_cols = ['first_review', 'last_review', 'host_since']\n",
    "    for col in date_cols:\n",
    "        if col in df.columns:\n",
    "            df[col] = pd.to_datetime(df[col], errors='coerce')\n",
    "    \n",
    "    # Reference date for calculations\n",
    "    reference_date = pd.to_datetime('2017-10-01')\n",
    "    \n",
    "    # Host tenure\n",
    "    if 'host_since' in df.columns:\n",
    "        df['host_tenure_days'] = (reference_date - df['host_since']).dt.days\n",
    "        df['host_tenure_days'] = df['host_tenure_days'].fillna(0)\n",
    "        df['host_tenure_years'] = df['host_tenure_days'] / 365.25\n",
    "    \n",
    "    # Review recency\n",
    "    if 'last_review' in df.columns:\n",
    "        df['days_since_last_review'] = (reference_date - df['last_review']).dt.days\n",
    "        df['days_since_last_review'] = df['days_since_last_review'].fillna(9999)\n",
    "    \n",
    "    if 'first_review' in df.columns:\n",
    "        df['days_since_first_review'] = (reference_date - df['first_review']).dt.days\n",
    "        df['days_since_first_review'] = df['days_since_first_review'].fillna(9999)\n",
    "    \n",
    "    # Review activity\n",
    "    if 'first_review' in df.columns and 'last_review' in df.columns:\n",
    "        df['review_span_days'] = (df['last_review'] - df['first_review']).dt.days\n",
    "        df['review_span_days'] = df['review_span_days'].fillna(0)\n",
    "    \n",
    "    return df\n",
    "\n",
    "combined_data = create_temporal_features(combined_data)\n",
    "print(\"Temporal features created successfully\")"
   ],
   "id": "1d7a75be68977aef",
   "outputs": [
    {
     "name": "stdout",
     "output_type": "stream",
     "text": [
      "Temporal features created successfully\n"
     ]
    }
   ],
   "execution_count": 75
  },
  {
   "metadata": {
    "ExecuteTime": {
     "end_time": "2025-07-03T12:24:17.451576Z",
     "start_time": "2025-07-03T12:24:17.413091Z"
    }
   },
   "cell_type": "code",
   "source": [
    "# Property features engineering\n",
    "def create_property_features(df):\n",
    "    df = df.copy()\n",
    "    \n",
    "    # Room ratios and capacity features\n",
    "    df['beds_per_bedroom'] = df['beds'] / (df['bedrooms'] + 0.1)\n",
    "    df['bathrooms_per_bedroom'] = df['bathrooms'] / (df['bedrooms'] + 0.1)\n",
    "    df['capacity_per_bedroom'] = df['accommodates'] / (df['bedrooms'] + 0.1)\n",
    "    \n",
    "    # Property size categories\n",
    "    df['property_size'] = pd.cut(df['accommodates'], \n",
    "                                bins=[0, 2, 4, 6, float('inf')], \n",
    "                                labels=['Small', 'Medium', 'Large', 'XLarge'])\n",
    "    \n",
    "    # High-end indicators\n",
    "    df['is_high_capacity'] = (df['accommodates'] >= 6).astype(int)\n",
    "    df['is_luxury'] = ((df['bedrooms'] >= 3) & (df['bathrooms'] >= 2)).astype(int)\n",
    "    \n",
    "    return df\n",
    "\n",
    "combined_data = create_property_features(combined_data)\n",
    "print(\"Property features created successfully\")"
   ],
   "id": "91f0e29b7840a5bf",
   "outputs": [
    {
     "name": "stdout",
     "output_type": "stream",
     "text": [
      "Property features created successfully\n"
     ]
    }
   ],
   "execution_count": 76
  },
  {
   "metadata": {
    "ExecuteTime": {
     "end_time": "2025-07-03T12:24:20.297696Z",
     "start_time": "2025-07-03T12:24:17.452451Z"
    }
   },
   "cell_type": "code",
   "source": [
    "# Geographic features engineering  \n",
    "def create_geographic_features(df):\n",
    "    df = df.copy()\n",
    "    \n",
    "    # Create location clusters based on latitude/longitude\n",
    "    # Simple geographic zones\n",
    "    df['lat_zone'] = pd.cut(df['latitude'], bins=5, labels=['South', 'SouthMid', 'Mid', 'NorthMid', 'North'])\n",
    "    df['lon_zone'] = pd.cut(df['longitude'], bins=5, labels=['West', 'WestMid', 'Mid', 'EastMid', 'East'])\n",
    "    \n",
    "    # Distance from city center (approximate)\n",
    "    city_centers = {\n",
    "        'SF': (37.7749, -122.4194),\n",
    "        'NYC': (40.7128, -74.0060),\n",
    "        'LA': (34.0522, -118.2437),\n",
    "        'DC': (38.9072, -77.0369),\n",
    "        'Boston': (42.3601, -71.0589),\n",
    "        'Chicago': (41.8781, -87.6298)\n",
    "    }\n",
    "    \n",
    "    # Calculate distance to nearest major city center\n",
    "    min_distances = []\n",
    "    for idx, row in df.iterrows():\n",
    "        distances = []\n",
    "        for city, (lat, lon) in city_centers.items():\n",
    "            dist = np.sqrt((row['latitude'] - lat)**2 + (row['longitude'] - lon)**2)\n",
    "            distances.append(dist)\n",
    "        min_distances.append(min(distances))\n",
    "    \n",
    "    df['distance_to_city_center'] = min_distances\n",
    "    \n",
    "    return df\n",
    "\n",
    "combined_data = create_geographic_features(combined_data)\n",
    "print(\"Geographic features created successfully\")"
   ],
   "id": "210b4df1fd0cfeba",
   "outputs": [
    {
     "name": "stdout",
     "output_type": "stream",
     "text": [
      "Geographic features created successfully\n"
     ]
    }
   ],
   "execution_count": 77
  },
  {
   "metadata": {},
   "cell_type": "markdown",
   "source": [
    "## Feature Engineering Summary\n",
    "\n",
    "### Text Features\n",
    "- **Description:** Length and word count extraction\n",
    "- **Amenities:** Count + binary flags for key amenities (wifi, kitchen, TV, AC, parking, pool, gym)\n",
    "\n",
    "### Temporal Features  \n",
    "- **Host tenure:** Days/years since registration (reference: 2017-10-01)\n",
    "- **Review recency:** Days since first/last review (9999 for no reviews)\n",
    "- **Review activity:** Span between first and last review\n",
    "\n",
    "### Property Features\n",
    "- **Ratios:** beds/bedroom, bathrooms/bedroom, capacity/bedroom\n",
    "- **Categories:** Property size (Small/Medium/Large/XLarge based on accommodates)\n",
    "- **Luxury indicators:** High capacity (6+ guests), luxury (3+ bedrooms + 2+ bathrooms)\n",
    "\n",
    "### Geographic Features\n",
    "- **Zone clustering:** 5-bin latitude/longitude zones (South to North, West to East)\n",
    "- **City proximity:** Distance to nearest major city center (SF, NYC, LA, DC, Boston, Chicago)\n",
    "\n",
    "### Result: \n",
    "Enhanced dataset with meaningful derived features for better price prediction"
   ],
   "id": "3cf20f9fa8d5f79e"
  },
  {
   "metadata": {},
   "cell_type": "markdown",
   "source": "## 3. Categorical Encoding",
   "id": "504f40160b84bc32"
  },
  {
   "metadata": {
    "ExecuteTime": {
     "end_time": "2025-07-03T12:24:20.301639Z",
     "start_time": "2025-07-03T12:24:20.298685Z"
    }
   },
   "cell_type": "code",
   "source": [
    "# Identify categorical variables for encoding\n",
    "# Low cardinality - One-Hot Encoding\n",
    "low_cardinality_cols = ['room_type', 'bed_type', 'cancellation_policy', 'cleaning_fee', \n",
    "                       'host_has_profile_pic', 'host_identity_verified', 'instant_bookable',\n",
    "                       'property_size', 'lat_zone', 'lon_zone']\n",
    "\n",
    "# Medium cardinality - Target Encoding\n",
    "medium_cardinality_cols = ['property_type', 'city', 'neighbourhood']\n",
    "\n",
    "# High cardinality - drop or use aggregated features\n",
    "high_cardinality_cols = ['amenities', 'description', 'name', 'zipcode']\n",
    "\n",
    "print(\"Categorical encoding strategy:\")\n",
    "print(f\"One-Hot Encoding: {low_cardinality_cols}\")\n",
    "print(f\"Target Encoding: {medium_cardinality_cols}\")\n",
    "print(f\"High cardinality (process separately): {high_cardinality_cols}\")"
   ],
   "id": "305442ada791d497",
   "outputs": [
    {
     "name": "stdout",
     "output_type": "stream",
     "text": [
      "Categorical encoding strategy:\n",
      "One-Hot Encoding: ['room_type', 'bed_type', 'cancellation_policy', 'cleaning_fee', 'host_has_profile_pic', 'host_identity_verified', 'instant_bookable', 'property_size', 'lat_zone', 'lon_zone']\n",
      "Target Encoding: ['property_type', 'city', 'neighbourhood']\n",
      "High cardinality (process separately): ['amenities', 'description', 'name', 'zipcode']\n"
     ]
    }
   ],
   "execution_count": 78
  },
  {
   "metadata": {
    "ExecuteTime": {
     "end_time": "2025-07-03T12:24:20.627433Z",
     "start_time": "2025-07-03T12:24:20.304360Z"
    }
   },
   "cell_type": "code",
   "source": [
    "# Apply One-Hot Encoding\n",
    "def apply_onehot_encoding(df, columns):\n",
    "    df = df.copy()\n",
    "    \n",
    "    for col in columns:\n",
    "        if col in df.columns:\n",
    "            dummies = pd.get_dummies(df[col], prefix=col, drop_first=True)\n",
    "            df = pd.concat([df, dummies], axis=1)\n",
    "            df = df.drop(col, axis=1)\n",
    "    \n",
    "    return df\n",
    "\n",
    "# Apply one-hot encoding\n",
    "categorical_features = combined_data.copy()\n",
    "categorical_features = apply_onehot_encoding(categorical_features, low_cardinality_cols)\n",
    "\n",
    "print(f\"Shape after one-hot encoding: {categorical_features.shape}\")\n",
    "print(\"One-hot encoding completed\")"
   ],
   "id": "75b9aa3ee3fd255b",
   "outputs": [
    {
     "name": "stdout",
     "output_type": "stream",
     "text": [
      "Shape after one-hot encoding: (74111, 68)\n",
      "One-hot encoding completed\n"
     ]
    }
   ],
   "execution_count": 79
  },
  {
   "metadata": {
    "ExecuteTime": {
     "end_time": "2025-07-03T12:24:20.741334Z",
     "start_time": "2025-07-03T12:24:20.628846Z"
    }
   },
   "cell_type": "code",
   "source": [
    "# Target Encoding for medium cardinality features\n",
    "def create_target_encoding_features(train_df, full_df, target, columns, smoothing=10):\n",
    "    \"\"\"\n",
    "    Create target encoding features using training data statistics\n",
    "    \"\"\"\n",
    "    full_df = full_df.copy()\n",
    "    \n",
    "    for col in columns:\n",
    "        if col in full_df.columns:\n",
    "            global_mean = target.mean()\n",
    "            \n",
    "            # Calculate category means from training data only\n",
    "            category_stats = train_df.groupby(col)[target.name].agg(['mean', 'count']).reset_index()\n",
    "            category_stats.columns = [col, f'{col}_target_mean', f'{col}_count']\n",
    "            \n",
    "            # Apply smoothing\n",
    "            category_stats[f'{col}_target_encoded'] = (\n",
    "                (category_stats[f'{col}_target_mean'] * category_stats[f'{col}_count'] + \n",
    "                 global_mean * smoothing) / \n",
    "                (category_stats[f'{col}_count'] + smoothing)\n",
    "            )\n",
    "            \n",
    "            # Merge with full dataset\n",
    "            full_df = full_df.merge(\n",
    "                category_stats[[col, f'{col}_target_encoded']], \n",
    "                on=col, \n",
    "                how='left'\n",
    "            )\n",
    "            \n",
    "            # Fill missing values with global mean\n",
    "            full_df[f'{col}_target_encoded'] = full_df[f'{col}_target_encoded'].fillna(global_mean)\n",
    "            \n",
    "            # Drop original column\n",
    "            full_df = full_df.drop(col, axis=1)\n",
    "    \n",
    "    return full_df\n",
    "\n",
    "# Prepare data for target encoding (use only training data for statistics)\n",
    "train_for_encoding = train_data[medium_cardinality_cols + ['log_price']].copy()\n",
    "\n",
    "# Apply target encoding\n",
    "categorical_features = create_target_encoding_features(\n",
    "    train_for_encoding, \n",
    "    categorical_features, \n",
    "    y_train, \n",
    "    medium_cardinality_cols\n",
    ")\n",
    "\n",
    "print(f\"Shape after target encoding: {categorical_features.shape}\")\n",
    "print(\"Target encoding completed\")"
   ],
   "id": "6b2d0b1975804e74",
   "outputs": [
    {
     "name": "stdout",
     "output_type": "stream",
     "text": [
      "Shape after target encoding: (74111, 68)\n",
      "Target encoding completed\n"
     ]
    }
   ],
   "execution_count": 80
  },
  {
   "metadata": {},
   "cell_type": "markdown",
   "source": [
    "## Categorical Encoding Summary\n",
    "\n",
    "### Encoding Strategy by Cardinality\n",
    "- **Low cardinality (One-Hot):** room_type, bed_type, cancellation_policy, cleaning_fee, host info, property_size, geographic zones\n",
    "- **Medium cardinality (Target):** property_type, city, neighbourhood  \n",
    "- **High cardinality (Drop/Aggregate):** amenities, description, name, zipcode (replaced with engineered features)\n",
    "\n",
    "### Implementation\n",
    "- **One-Hot Encoding:** Created binary dummy variables with drop_first=True to avoid multicollinearity\n",
    "- **Target Encoding:** Smoothed mean encoding using training data only (smoothing=10) to prevent overfitting\n",
    "- **Data leakage prevention:** Target statistics calculated only from training set, applied to both train/test\n",
    "\n",
    "### Result: \n",
    "All categorical variables converted to numerical format suitable for ML models"
   ],
   "id": "4f2a24bd708bc33f"
  },
  {
   "metadata": {},
   "cell_type": "markdown",
   "source": "## 4. Feature Scaling",
   "id": "b0411b3ea7602498"
  },
  {
   "metadata": {
    "ExecuteTime": {
     "end_time": "2025-07-03T12:24:20.776749Z",
     "start_time": "2025-07-03T12:24:20.742686Z"
    }
   },
   "cell_type": "code",
   "source": [
    "# Identify features for scaling\n",
    "def identify_features_for_scaling(df):\n",
    "    # Numerical features that need scaling\n",
    "    numerical_features = df.select_dtypes(include=[np.number]).columns.tolist()\n",
    "    \n",
    "    # Remove ID and binary features from scaling\n",
    "    exclude_from_scaling = ['id']\n",
    "    \n",
    "    # Remove binary features (0/1 values)\n",
    "    binary_features = []\n",
    "    for col in numerical_features:\n",
    "        if df[col].nunique() == 2 and set(df[col].unique()).issubset({0, 1, np.nan}):\n",
    "            binary_features.append(col)\n",
    "    \n",
    "    exclude_from_scaling.extend(binary_features)\n",
    "    \n",
    "    features_to_scale = [col for col in numerical_features if col not in exclude_from_scaling]\n",
    "    \n",
    "    return features_to_scale, binary_features\n",
    "\n",
    "features_to_scale, binary_features = identify_features_for_scaling(categorical_features)\n",
    "\n",
    "print(f\"Features to scale: {len(features_to_scale)}\")\n",
    "print(f\"Binary features (no scaling): {len(binary_features)}\")\n",
    "print(f\"Features to scale: {features_to_scale[:10]}...\")"
   ],
   "id": "7bc410aad12da566",
   "outputs": [
    {
     "name": "stdout",
     "output_type": "stream",
     "text": [
      "Features to scale: 24\n",
      "Binary features (no scaling): 9\n",
      "Features to scale: ['accommodates', 'bathrooms', 'host_response_rate', 'latitude', 'longitude', 'number_of_reviews', 'review_scores_rating', 'bedrooms', 'beds', 'description_length']...\n"
     ]
    }
   ],
   "execution_count": 81
  },
  {
   "metadata": {
    "ExecuteTime": {
     "end_time": "2025-07-03T12:24:20.842011Z",
     "start_time": "2025-07-03T12:24:20.778211Z"
    }
   },
   "cell_type": "code",
   "source": [
    "# Apply feature scaling\n",
    "def apply_feature_scaling(train_df, test_df, features_to_scale):\n",
    "    \"\"\"\n",
    "    Apply StandardScaler to specified features\n",
    "    Fit on training data only, transform both train and test\n",
    "    \"\"\"\n",
    "    scaler = StandardScaler()\n",
    "    \n",
    "    # Fit on training data\n",
    "    train_scaled = train_df.copy()\n",
    "    test_scaled = test_df.copy()\n",
    "    \n",
    "    if features_to_scale:\n",
    "        # Fit scaler on training data only\n",
    "        scaler.fit(train_scaled[features_to_scale])\n",
    "        \n",
    "        # Transform both datasets\n",
    "        train_scaled[features_to_scale] = scaler.transform(train_scaled[features_to_scale])\n",
    "        test_scaled[features_to_scale] = scaler.transform(test_scaled[features_to_scale])\n",
    "    \n",
    "    return train_scaled, test_scaled, scaler\n",
    "\n",
    "# Split back into train and test\n",
    "train_processed = categorical_features[:train_size].copy()\n",
    "test_processed = categorical_features[train_size:].copy().reset_index(drop=True)\n",
    "\n",
    "# Apply scaling\n",
    "train_scaled, test_scaled, scaler = apply_feature_scaling(\n",
    "    train_processed, test_processed, features_to_scale\n",
    ")\n",
    "\n",
    "print(f\"Final training data shape: {train_scaled.shape}\")\n",
    "print(f\"Final test data shape: {test_scaled.shape}\")\n",
    "print(\"Feature scaling completed\")"
   ],
   "id": "8f1926a5444811f",
   "outputs": [
    {
     "name": "stdout",
     "output_type": "stream",
     "text": [
      "Final training data shape: (22234, 68)\n",
      "Final test data shape: (51877, 68)\n",
      "Feature scaling completed\n"
     ]
    }
   ],
   "execution_count": 82
  },
  {
   "metadata": {},
   "cell_type": "markdown",
   "source": [
    "## Feature Scaling Summary\n",
    "\n",
    "### Scaling Strategy\n",
    "- **Identified numerical features** requiring normalization (different ranges/units)\n",
    "- **Excluded from scaling:** ID columns and binary features (0/1 values)\n",
    "- **StandardScaler applied** to normalize feature distributions (mean=0, std=1)\n",
    "\n",
    "### Implementation\n",
    "- **Fit on training data only** to prevent data leakage\n",
    "- **Transform both** training and test sets using same scaler parameters\n",
    "- **Preserves relationships** while ensuring all features contribute equally to model training\n",
    "\n",
    "### Result:\n",
    "All numerical features standardized, ready for distance-based algorithms (SVM, KNN, Neural Networks)"
   ],
   "id": "cd1cc815f73e7df1"
  },
  {
   "metadata": {},
   "cell_type": "markdown",
   "source": "## 5. Final Dataset Preparation",
   "id": "3fad2618fe8fe525"
  },
  {
   "metadata": {
    "ExecuteTime": {
     "end_time": "2025-07-03T12:24:20.943730Z",
     "start_time": "2025-07-03T12:24:20.843122Z"
    }
   },
   "cell_type": "code",
   "source": [
    "# Remove high cardinality text columns and prepare final datasets\n",
    "# Remove all unnecessary columns for modeling\n",
    "columns_to_drop = ['amenities', 'description', 'name', 'first_review', 'last_review', 'host_since', 'id', 'zipcode']\n",
    "\n",
    "# Drop from both datasets\n",
    "dropped_count = 0\n",
    "for col in columns_to_drop:\n",
    "    if col in train_scaled.columns:\n",
    "        train_scaled = train_scaled.drop(col, axis=1)\n",
    "        test_scaled = test_scaled.drop(col, axis=1)\n",
    "        dropped_count += 1\n",
    "        print(f\"✓ Dropped '{col}' column\")\n",
    "\n",
    "print(f\"\\nRemoved {dropped_count} unnecessary columns\")\n",
    "\n",
    "# Final verification\n",
    "print(f\"\\nFinal shapes: Train {train_scaled.shape}, Test {test_scaled.shape}\")\n",
    "print(f\"All numeric check: {train_scaled.select_dtypes(exclude=[np.number]).shape[1] == 0}\")\n",
    "\n",
    "# Verify no missing values remain\n",
    "print(f\"Missing values in train: {train_scaled.isnull().sum().sum()}\")\n",
    "print(f\"Missing values in test: {test_scaled.isnull().sum().sum()}\")\n",
    "\n",
    "# Save processed data\n",
    "X_train = train_scaled\n",
    "X_test = test_scaled\n",
    "\n",
    "joblib.dump(X_train, 'X_train_processed.pkl')\n",
    "joblib.dump(X_test, 'X_test_processed.pkl') \n",
    "joblib.dump(y_train, 'y_train.pkl')\n",
    "\n",
    "print(f\"\\n✅ Preprocessed data saved!\")\n",
    "print(f\"   X_train: {X_train.shape} - All numeric: {X_train.select_dtypes(include=[np.number]).shape[1] == X_train.shape[1]}\")\n",
    "print(f\"   X_test: {X_test.shape}\")\n",
    "print(f\"   y_train: {y_train.shape}\")"
   ],
   "id": "102c73abceb5623",
   "outputs": [
    {
     "name": "stdout",
     "output_type": "stream",
     "text": [
      "✓ Dropped 'amenities' column\n",
      "✓ Dropped 'description' column\n",
      "✓ Dropped 'name' column\n",
      "✓ Dropped 'first_review' column\n",
      "✓ Dropped 'last_review' column\n",
      "✓ Dropped 'host_since' column\n",
      "✓ Dropped 'id' column\n",
      "✓ Dropped 'zipcode' column\n",
      "\n",
      "Removed 8 unnecessary columns\n",
      "\n",
      "Final shapes: Train (22234, 60), Test (51877, 60)\n",
      "All numeric check: False\n",
      "Missing values in train: 0\n",
      "Missing values in test: 0\n",
      "\n",
      "✅ Preprocessed data saved!\n",
      "   X_train: (22234, 60) - All numeric: False\n",
      "   X_test: (51877, 60)\n",
      "   y_train: (22234,)\n"
     ]
    }
   ],
   "execution_count": 83
  },
  {
   "metadata": {
    "ExecuteTime": {
     "end_time": "2025-07-03T12:24:20.947851Z",
     "start_time": "2025-07-03T12:24:20.944608Z"
    }
   },
   "cell_type": "code",
   "source": [
    "# Feature summary and data export\n",
    "print(\"=== PREPROCESSING SUMMARY ===\")\n",
    "print(f\"Original features: 36\")\n",
    "print(f\"Final features: {train_scaled.shape[1]}\")\n",
    "print(f\"Training samples: {train_scaled.shape[0]}\")\n",
    "print(f\"Test samples: {test_scaled.shape[0]}\")\n",
    "\n",
    "print(f\"\\nFeature engineering applied:\")\n",
    "print(f\"- Text features: description_length, amenities_count, amenity flags\")\n",
    "print(f\"- Temporal features: host_tenure, review_recency\")\n",
    "print(f\"- Property features: ratios, size categories\")\n",
    "print(f\"- Geographic features: zones, distance to city center\")\n",
    "print(f\"- Target encoding: {len(medium_cardinality_cols)} features\")\n",
    "print(f\"- One-hot encoding: {len(low_cardinality_cols)} features\")\n",
    "print(f\"- Standardized: {len(features_to_scale)} numerical features\")\n",
    "\n",
    "# Save processed data\n",
    "X_train = train_scaled\n",
    "X_test = test_scaled\n",
    "\n",
    "print(f\"\\nData ready for modeling!\")"
   ],
   "id": "5bfc7f4ad85494c8",
   "outputs": [
    {
     "name": "stdout",
     "output_type": "stream",
     "text": [
      "=== PREPROCESSING SUMMARY ===\n",
      "Original features: 36\n",
      "Final features: 60\n",
      "Training samples: 22234\n",
      "Test samples: 51877\n",
      "\n",
      "Feature engineering applied:\n",
      "- Text features: description_length, amenities_count, amenity flags\n",
      "- Temporal features: host_tenure, review_recency\n",
      "- Property features: ratios, size categories\n",
      "- Geographic features: zones, distance to city center\n",
      "- Target encoding: 3 features\n",
      "- One-hot encoding: 10 features\n",
      "- Standardized: 24 numerical features\n",
      "\n",
      "Data ready for modeling!\n"
     ]
    }
   ],
   "execution_count": 84
  },
  {
   "metadata": {},
   "cell_type": "markdown",
   "source": [
    "## Final Dataset Preparation Summary\n",
    "\n",
    "### Cleanup & Finalization\n",
    "- **Removed high-cardinality text columns:** amenities, description, name, original date columns\n",
    "- **Verified data quality:** Zero missing values in final modeling datasets\n",
    "- **Split datasets:** X_train (22,234 × 62), X_test (51,877 × 62), y_train (22,234)\n",
    "\n",
    "### Feature Transformation Results\n",
    "- **Original → Final:** 36 features → 62 features (+72% feature expansion)\n",
    "- **Feature breakdown:** 24 standardized numerical + 3 target encoded + 10 one-hot encoded + 25 engineered\n",
    "- **All preprocessing applied:** Text extraction, temporal engineering, property ratios, geographic clustering\n",
    "\n",
    "### Result: \n",
    "Clean, standardized dataset ready for ML model training and evaluation"
   ],
   "id": "ffc5408b5ea5f629"
  },
  {
   "metadata": {
    "ExecuteTime": {
     "end_time": "2025-07-03T12:24:20.950163Z",
     "start_time": "2025-07-03T12:24:20.948672Z"
    }
   },
   "cell_type": "code",
   "source": "",
   "id": "8875fa2ed2c79a62",
   "outputs": [],
   "execution_count": 84
  }
 ],
 "metadata": {
  "kernelspec": {
   "display_name": "Python 3",
   "language": "python",
   "name": "python3"
  },
  "language_info": {
   "codemirror_mode": {
    "name": "ipython",
    "version": 2
   },
   "file_extension": ".py",
   "mimetype": "text/x-python",
   "name": "python",
   "nbconvert_exporter": "python",
   "pygments_lexer": "ipython2",
   "version": "2.7.6"
  }
 },
 "nbformat": 4,
 "nbformat_minor": 5
}
