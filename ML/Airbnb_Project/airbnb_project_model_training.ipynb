{
 "cells": [
  {
   "metadata": {},
   "cell_type": "markdown",
   "source": [
    "# Airbnb Price Prediction Project - Model Training & Evaluation\n",
    "\n",
    "## Setup and Model Imports"
   ],
   "id": "4fbda4234f010b21"
  },
  {
   "metadata": {
    "ExecuteTime": {
     "end_time": "2025-07-03T12:26:41.128458Z",
     "start_time": "2025-07-03T12:26:41.122878Z"
    }
   },
   "cell_type": "code",
   "source": [
    "# Model imports\n",
    "import numpy as np\n",
    "import pandas as pd\n",
    "import joblib\n",
    "from sklearn.model_selection import train_test_split, cross_val_score, GridSearchCV\n",
    "from sklearn.linear_model import LinearRegression, Ridge, Lasso\n",
    "from sklearn.preprocessing import StandardScaler, PolynomialFeatures\n",
    "from sklearn.tree import DecisionTreeRegressor\n",
    "from sklearn.ensemble import RandomForestRegressor, GradientBoostingRegressor\n",
    "from sklearn.metrics import mean_squared_error, mean_absolute_error, r2_score\n",
    "from sklearn.pipeline import Pipeline\n",
    "import matplotlib.pyplot as plt\n",
    "import seaborn as sns\n",
    "import warnings\n",
    "warnings.filterwarnings('ignore')\n",
    "\n",
    "print(\"Model libraries imported successfully!\")"
   ],
   "id": "4065689f303ad71a",
   "outputs": [
    {
     "name": "stdout",
     "output_type": "stream",
     "text": [
      "Model libraries imported successfully!\n"
     ]
    }
   ],
   "execution_count": 32
  },
  {
   "metadata": {
    "ExecuteTime": {
     "end_time": "2025-07-03T12:26:41.221356Z",
     "start_time": "2025-07-03T12:26:41.167453Z"
    }
   },
   "cell_type": "code",
   "source": [
    "# Load preprocessed datasets\n",
    "X_train = joblib.load('X_train_processed.pkl')\n",
    "X_test = joblib.load('X_test_processed.pkl')\n",
    "y_train = joblib.load('y_train.pkl')"
   ],
   "id": "ed0129b2ed497cfa",
   "outputs": [],
   "execution_count": 33
  },
  {
   "metadata": {
    "ExecuteTime": {
     "end_time": "2025-07-03T12:26:41.233024Z",
     "start_time": "2025-07-03T12:26:41.223103Z"
    }
   },
   "cell_type": "code",
   "source": [
    "# Load preprocessed data and verification\n",
    "print(\"=== DATASET SUMMARY ===\")\n",
    "print(f\"Training features shape: {X_train.shape}\")\n",
    "print(f\"Training target shape: {y_train.shape}\")\n",
    "print(f\"Test features shape: {X_test.shape}\")\n",
    "\n",
    "# Verify no missing values\n",
    "print(f\"\\nData Quality Check:\")\n",
    "print(f\"X_train missing values: {X_train.isnull().sum().sum()}\")\n",
    "print(f\"X_test missing values: {X_test.isnull().sum().sum()}\")\n",
    "print(f\"y_train missing values: {y_train.isnull().sum()}\")\n",
    "\n",
    "# Target distribution\n",
    "print(f\"\\nTarget Distribution:\")\n",
    "print(f\"Mean log_price: {y_train.mean():.3f}\")\n",
    "print(f\"Std log_price: {y_train.std():.3f}\")\n",
    "print(f\"Min/Max log_price: {y_train.min():.3f} / {y_train.max():.3f}\")"
   ],
   "id": "a30adfd49ea191dc",
   "outputs": [
    {
     "name": "stdout",
     "output_type": "stream",
     "text": [
      "=== DATASET SUMMARY ===\n",
      "Training features shape: (22234, 60)\n",
      "Training target shape: (22234,)\n",
      "Test features shape: (51877, 60)\n",
      "\n",
      "Data Quality Check:\n",
      "X_train missing values: 0\n",
      "X_test missing values: 0\n",
      "y_train missing values: 0\n",
      "\n",
      "Target Distribution:\n",
      "Mean log_price: 4.783\n",
      "Std log_price: 0.719\n",
      "Min/Max log_price: 2.303 / 7.600\n"
     ]
    }
   ],
   "execution_count": 34
  },
  {
   "metadata": {},
   "cell_type": "markdown",
   "source": "## 1. Train/Validation Split",
   "id": "9929b826ff1a09da"
  },
  {
   "metadata": {
    "ExecuteTime": {
     "end_time": "2025-07-03T12:26:41.245946Z",
     "start_time": "2025-07-03T12:26:41.233814Z"
    }
   },
   "cell_type": "code",
   "source": [
    "# Create train/validation split\n",
    "X_train_split, X_val_split, y_train_split, y_val_split = train_test_split(\n",
    "    X_train, y_train, \n",
    "    test_size=0.2, \n",
    "    random_state=42\n",
    ")\n",
    "\n",
    "print(\"=== TRAIN/VALIDATION SPLIT ===\")\n",
    "print(f\"Training set: {X_train_split.shape[0]} samples\")\n",
    "print(f\"Validation set: {X_val_split.shape[0]} samples\")\n",
    "print(f\"Split ratio: {X_val_split.shape[0] / X_train.shape[0]:.1%} validation\")\n",
    "\n",
    "# Target distribution check\n",
    "print(f\"\\nTarget Distribution Check:\")\n",
    "print(f\"Train - Mean: {y_train_split.mean():.3f}, Std: {y_train_split.std():.3f}\")\n",
    "print(f\"Val   - Mean: {y_val_split.mean():.3f}, Std: {y_val_split.std():.3f}\")"
   ],
   "id": "5741771777d62143",
   "outputs": [
    {
     "name": "stdout",
     "output_type": "stream",
     "text": [
      "=== TRAIN/VALIDATION SPLIT ===\n",
      "Training set: 17787 samples\n",
      "Validation set: 4447 samples\n",
      "Split ratio: 20.0% validation\n",
      "\n",
      "Target Distribution Check:\n",
      "Train - Mean: 4.786, Std: 0.719\n",
      "Val   - Mean: 4.773, Std: 0.716\n"
     ]
    }
   ],
   "execution_count": 35
  },
  {
   "metadata": {},
   "cell_type": "markdown",
   "source": "## 2. Model Evaluation Function",
   "id": "ab9e71c7317f5e13"
  },
  {
   "metadata": {
    "ExecuteTime": {
     "end_time": "2025-07-03T12:26:41.259279Z",
     "start_time": "2025-07-03T12:26:41.253743Z"
    }
   },
   "cell_type": "code",
   "source": [
    "def evaluate_regression_model(y_true, y_pred, model_name):\n",
    "    \"\"\"\n",
    "    Calculate and display regression model evaluation metrics\n",
    "    Returns dictionary with metrics for comparison\n",
    "    \"\"\"\n",
    "    rmse = np.sqrt(mean_squared_error(y_true, y_pred))\n",
    "    mae = mean_absolute_error(y_true, y_pred)\n",
    "    r2 = r2_score(y_true, y_pred)\n",
    "    \n",
    "    print(f\"\\n{model_name} Results:\")\n",
    "    print(f\"  RMSE: {rmse:.4f}\")\n",
    "    print(f\"  MAE:  {mae:.4f}\")\n",
    "    print(f\"  R²:   {r2:.4f}\")\n",
    "    \n",
    "    return {'RMSE': rmse, 'MAE': mae, 'R2': r2}\n",
    "\n",
    "# Initialize results storage\n",
    "model_results = {}"
   ],
   "id": "30dd1db78ad4d27c",
   "outputs": [],
   "execution_count": 36
  },
  {
   "metadata": {},
   "cell_type": "markdown",
   "source": "## 3. Baseline Model",
   "id": "86bf59c46e7ee1ae"
  },
  {
   "metadata": {
    "ExecuteTime": {
     "end_time": "2025-07-03T12:26:41.264869Z",
     "start_time": "2025-07-03T12:26:41.260505Z"
    }
   },
   "cell_type": "code",
   "source": [
    "# Baseline model - predict mean\n",
    "print(\"=== BASELINE MODEL ===\")\n",
    "\n",
    "# Simple baseline: predict mean log_price\n",
    "baseline_pred = np.full(len(y_val_split), y_train_split.mean())\n",
    "baseline_results = evaluate_regression_model(y_val_split, baseline_pred, \"Baseline (Mean Prediction)\")\n",
    "\n",
    "# Store results\n",
    "model_results['Baseline'] = baseline_results"
   ],
   "id": "aacbaf7180d3e8e1",
   "outputs": [
    {
     "name": "stdout",
     "output_type": "stream",
     "text": [
      "=== BASELINE MODEL ===\n",
      "\n",
      "Baseline (Mean Prediction) Results:\n",
      "  RMSE: 0.7159\n",
      "  MAE:  0.5607\n",
      "  R²:   -0.0003\n"
     ]
    }
   ],
   "execution_count": 37
  },
  {
   "metadata": {},
   "cell_type": "markdown",
   "source": [
    "### Baseline Performance\n",
    "- **RMSE: 0.7159** - Simple mean prediction\n",
    "- All models must beat this threshold"
   ],
   "id": "aae3f9805d5b66c5"
  },
  {
   "metadata": {},
   "cell_type": "markdown",
   "source": "## 4. Linear Models with Pipelines",
   "id": "20e69500537339dc"
  },
  {
   "metadata": {
    "ExecuteTime": {
     "end_time": "2025-07-03T12:26:41.340826Z",
     "start_time": "2025-07-03T12:26:41.265688Z"
    }
   },
   "cell_type": "code",
   "source": [
    "# Linear Regression with Pipeline\n",
    "print(\"=== LINEAR REGRESSION ===\")\n",
    "\n",
    "# Create pipeline with scaling\n",
    "lr_pipeline = Pipeline([\n",
    "    ('scaler', StandardScaler()),\n",
    "    ('regressor', LinearRegression())\n",
    "])\n",
    "\n",
    "# Fit and predict\n",
    "lr_pipeline.fit(X_train_split, y_train_split)\n",
    "lr_pred = lr_pipeline.predict(X_val_split)\n",
    "lr_results = evaluate_regression_model(y_val_split, lr_pred, \"Linear Regression\")\n",
    "model_results['Linear Regression'] = lr_results\n",
    "\n",
    "# Feature importance (coefficients)\n",
    "lr_coef = lr_pipeline.named_steps['regressor'].coef_\n",
    "feature_importance = pd.DataFrame({\n",
    "    'feature': X_train.columns,\n",
    "    'coefficient': np.abs(lr_coef)\n",
    "}).sort_values('coefficient', ascending=False)\n",
    "\n",
    "print(f\"\\nTop 5 Most Important Features (by |coefficient|):\")\n",
    "for i, (_, row) in enumerate(feature_importance.head(5).iterrows()):\n",
    "    print(f\"  {i+1}. {row['feature']}: {row['coefficient']:.4f}\")"
   ],
   "id": "a70b551891d2740d",
   "outputs": [
    {
     "name": "stdout",
     "output_type": "stream",
     "text": [
      "=== LINEAR REGRESSION ===\n",
      "\n",
      "Linear Regression Results:\n",
      "  RMSE: 0.4167\n",
      "  MAE:  0.3039\n",
      "  R²:   0.6611\n",
      "\n",
      "Top 5 Most Important Features (by |coefficient|):\n",
      "  1. host_identity_verified_t: 133384137429.8409\n",
      "  2. host_identity_verified_f: 133109606617.4296\n",
      "  3. host_tenure_days: 33310270988.7593\n",
      "  4. host_tenure_years: 33310270988.7399\n",
      "  5. host_has_profile_pic_t: 21373485939.1542\n"
     ]
    }
   ],
   "execution_count": 38
  },
  {
   "metadata": {
    "ExecuteTime": {
     "end_time": "2025-07-03T12:26:41.521452Z",
     "start_time": "2025-07-03T12:26:41.343325Z"
    }
   },
   "cell_type": "code",
   "source": [
    "# Regularized Linear Models\n",
    "print(\"=== REGULARIZED LINEAR MODELS ===\")\n",
    "\n",
    "# Ridge Regression Pipeline\n",
    "ridge_pipeline = Pipeline([\n",
    "    ('scaler', StandardScaler()),\n",
    "    ('regressor', Ridge(alpha=1.0, random_state=42))\n",
    "])\n",
    "ridge_pipeline.fit(X_train_split, y_train_split)\n",
    "ridge_pred = ridge_pipeline.predict(X_val_split)\n",
    "ridge_results = evaluate_regression_model(y_val_split, ridge_pred, \"Ridge Regression\")\n",
    "model_results['Ridge'] = ridge_results\n",
    "\n",
    "# Lasso Regression Pipeline\n",
    "lasso_pipeline = Pipeline([\n",
    "    ('scaler', StandardScaler()),\n",
    "    ('regressor', Lasso(alpha=0.01, random_state=42, max_iter=2000))\n",
    "])\n",
    "lasso_pipeline.fit(X_train_split, y_train_split)\n",
    "lasso_pred = lasso_pipeline.predict(X_val_split)\n",
    "lasso_results = evaluate_regression_model(y_val_split, lasso_pred, \"Lasso Regression\")\n",
    "model_results['Lasso'] = lasso_results\n",
    "\n",
    "# Feature selection by Lasso\n",
    "lasso_coef = lasso_pipeline.named_steps['regressor'].coef_\n",
    "selected_features = np.sum(lasso_coef != 0)\n",
    "print(f\"\\nLasso selected {selected_features} out of {len(lasso_coef)} features\")"
   ],
   "id": "b16dd692b93304d0",
   "outputs": [
    {
     "name": "stdout",
     "output_type": "stream",
     "text": [
      "=== REGULARIZED LINEAR MODELS ===\n",
      "\n",
      "Ridge Regression Results:\n",
      "  RMSE: 0.4172\n",
      "  MAE:  0.3042\n",
      "  R²:   0.6602\n",
      "\n",
      "Lasso Regression Results:\n",
      "  RMSE: 0.4202\n",
      "  MAE:  0.3062\n",
      "  R²:   0.6553\n",
      "\n",
      "Lasso selected 27 out of 60 features\n"
     ]
    }
   ],
   "execution_count": 39
  },
  {
   "metadata": {},
   "cell_type": "markdown",
   "source": [
    "### Linear Models Results\n",
    "- **Linear Regression**: RMSE = 0.4167 (42% improvement vs baseline)\n",
    "- **Ridge/Lasso**: Similar performance (~0.42 RMSE)\n",
    "- **Issue**: Huge coefficients indicate multicollinearity"
   ],
   "id": "6e9cc4714ae55fdd"
  },
  {
   "metadata": {},
   "cell_type": "markdown",
   "source": "## 5. Tree-Based Models",
   "id": "d4368c9eec0be5af"
  },
  {
   "metadata": {
    "ExecuteTime": {
     "end_time": "2025-07-03T12:26:41.785743Z",
     "start_time": "2025-07-03T12:26:41.532523Z"
    }
   },
   "cell_type": "code",
   "source": [
    "# Decision Tree\n",
    "print(\"=== DECISION TREE REGRESSOR ===\")\n",
    "\n",
    "dt = DecisionTreeRegressor(\n",
    "    random_state=42, \n",
    "    max_depth=10, \n",
    "    min_samples_split=20,\n",
    "    min_samples_leaf=10\n",
    ")\n",
    "dt.fit(X_train_split, y_train_split)\n",
    "dt_pred = dt.predict(X_val_split)\n",
    "dt_results = evaluate_regression_model(y_val_split, dt_pred, \"Decision Tree\")\n",
    "model_results['Decision Tree'] = dt_results\n",
    "\n",
    "# Feature importance\n",
    "dt_importance = pd.DataFrame({\n",
    "    'feature': X_train.columns,\n",
    "    'importance': dt.feature_importances_\n",
    "}).sort_values('importance', ascending=False)\n",
    "\n",
    "print(f\"\\nTop 5 Most Important Features:\")\n",
    "for i, (_, row) in enumerate(dt_importance.head(5).iterrows()):\n",
    "    print(f\"  {i+1}. {row['feature']}: {row['importance']:.4f}\")"
   ],
   "id": "1b1749e0dbc97114",
   "outputs": [
    {
     "name": "stdout",
     "output_type": "stream",
     "text": [
      "=== DECISION TREE REGRESSOR ===\n",
      "\n",
      "Decision Tree Results:\n",
      "  RMSE: 0.4436\n",
      "  MAE:  0.3215\n",
      "  R²:   0.6159\n",
      "\n",
      "Top 5 Most Important Features:\n",
      "  1. room_type_Private room: 0.3740\n",
      "  2. neighbourhood_target_encoded: 0.1621\n",
      "  3. bedrooms: 0.1562\n",
      "  4. room_type_Shared room: 0.0831\n",
      "  5. is_luxury: 0.0450\n"
     ]
    }
   ],
   "execution_count": 40
  },
  {
   "metadata": {
    "ExecuteTime": {
     "end_time": "2025-07-03T12:26:44.339168Z",
     "start_time": "2025-07-03T12:26:41.786583Z"
    }
   },
   "cell_type": "code",
   "source": [
    "# Random Forest\n",
    "print(\"=== RANDOM FOREST REGRESSOR ===\")\n",
    "\n",
    "rf = RandomForestRegressor(\n",
    "    n_estimators=100,\n",
    "    max_depth=15,\n",
    "    min_samples_split=10,\n",
    "    min_samples_leaf=5,\n",
    "    random_state=42,\n",
    "    n_jobs=-1\n",
    ")\n",
    "rf.fit(X_train_split, y_train_split)\n",
    "rf_pred = rf.predict(X_val_split)\n",
    "rf_results = evaluate_regression_model(y_val_split, rf_pred, \"Random Forest\")\n",
    "model_results['Random Forest'] = rf_results\n",
    "\n",
    "# Feature importance\n",
    "rf_importance = pd.DataFrame({\n",
    "    'feature': X_train.columns,\n",
    "    'importance': rf.feature_importances_\n",
    "}).sort_values('importance', ascending=False)\n",
    "\n",
    "print(f\"\\nTop 5 Most Important Features:\")\n",
    "for i, (_, row) in enumerate(rf_importance.head(5).iterrows()):\n",
    "    print(f\"  {i+1}. {row['feature']}: {row['importance']:.4f}\")"
   ],
   "id": "db70da03da16b58d",
   "outputs": [
    {
     "name": "stdout",
     "output_type": "stream",
     "text": [
      "=== RANDOM FOREST REGRESSOR ===\n",
      "\n",
      "Random Forest Results:\n",
      "  RMSE: 0.4056\n",
      "  MAE:  0.2873\n",
      "  R²:   0.6788\n",
      "\n",
      "Top 5 Most Important Features:\n",
      "  1. room_type_Private room: 0.2328\n",
      "  2. bedrooms: 0.1980\n",
      "  3. neighbourhood_target_encoded: 0.1686\n",
      "  4. room_type_Shared room: 0.0663\n",
      "  5. bathrooms: 0.0393\n"
     ]
    }
   ],
   "execution_count": 41
  },
  {
   "metadata": {},
   "cell_type": "markdown",
   "source": [
    "### Tree Models Performance\n",
    "- **Random Forest**: RMSE = 0.4056 (**Best so far**)\n",
    "- **Decision Tree**: RMSE = 0.4436 (overfitting)\n",
    "- **Key insight**: room_type_Private room = top feature (23% importance)"
   ],
   "id": "c3c916dc61d1ac6"
  },
  {
   "metadata": {},
   "cell_type": "code",
   "outputs": [
    {
     "name": "stdout",
     "output_type": "stream",
     "text": [
      "=== GRADIENT BOOSTING REGRESSOR ===\n",
      "\n",
      "Gradient Boosting Results:\n",
      "  RMSE: 0.3946\n",
      "  MAE:  0.2807\n",
      "  R²:   0.6961\n"
     ]
    }
   ],
   "execution_count": 42,
   "source": [
    "# Gradient Boosting\n",
    "print(\"=== GRADIENT BOOSTING REGRESSOR ===\")\n",
    "\n",
    "gb = GradientBoostingRegressor(\n",
    "    n_estimators=100,\n",
    "    learning_rate=0.1,\n",
    "    max_depth=6,\n",
    "    min_samples_split=20,\n",
    "    min_samples_leaf=10,\n",
    "    random_state=42\n",
    ")\n",
    "gb.fit(X_train_split, y_train_split)\n",
    "gb_pred = gb.predict(X_val_split)\n",
    "gb_results = evaluate_regression_model(y_val_split, gb_pred, \"Gradient Boosting\")\n",
    "model_results['Gradient Boosting'] = gb_results"
   ],
   "id": "fc6c9db11cbfb150"
  },
  {
   "metadata": {},
   "cell_type": "markdown",
   "source": [
    "### Best Model Found\n",
    "- **Gradient Boosting**: RMSE = 0.3946\n",
    "- **3% improvement** over Random Forest\n",
    "- **45% better** than baseline"
   ],
   "id": "13c4a00a88259213"
  },
  {
   "metadata": {},
   "cell_type": "markdown",
   "source": "## 6. Model Comparison and Visualization",
   "id": "a66f56351c88bb7d"
  },
  {
   "metadata": {
    "ExecuteTime": {
     "end_time": "2025-07-03T12:26:58.483397Z",
     "start_time": "2025-07-03T12:26:58.256722Z"
    }
   },
   "cell_type": "code",
   "source": [
    "# Model comparison\n",
    "print(\"=== MODEL COMPARISON SUMMARY ===\")\n",
    "\n",
    "# Create comparison DataFrame\n",
    "results_df = pd.DataFrame(model_results).T\n",
    "results_df = results_df.sort_values('RMSE')\n",
    "print(\"\\nModel Performance (sorted by RMSE):\")\n",
    "display(results_df.round(4))\n",
    "\n",
    "# Visualization\n",
    "fig, axes = plt.subplots(1, 3, figsize=(18, 6))\n",
    "\n",
    "# RMSE comparison\n",
    "results_df['RMSE'].plot(kind='bar', ax=axes[0], color='skyblue', alpha=0.8)\n",
    "axes[0].set_title('RMSE Comparison\\n(Lower is Better)', fontsize=14)\n",
    "axes[0].set_ylabel('RMSE', fontsize=12)\n",
    "axes[0].tick_params(axis='x', rotation=45)\n",
    "axes[0].grid(True, alpha=0.3)\n",
    "\n",
    "# R² comparison\n",
    "results_df['R2'].plot(kind='bar', ax=axes[1], color='lightgreen', alpha=0.8)\n",
    "axes[1].set_title('R² Score Comparison\\n(Higher is Better)', fontsize=14)\n",
    "axes[1].set_ylabel('R² Score', fontsize=12)\n",
    "axes[1].tick_params(axis='x', rotation=45)\n",
    "axes[1].grid(True, alpha=0.3)\n",
    "\n",
    "# MAE comparison\n",
    "results_df['MAE'].plot(kind='bar', ax=axes[2], color='salmon', alpha=0.8)\n",
    "axes[2].set_title('MAE Comparison\\n(Lower is Better)', fontsize=14)\n",
    "axes[2].set_ylabel('MAE', fontsize=12)\n",
    "axes[2].tick_params(axis='x', rotation=45)\n",
    "axes[2].grid(True, alpha=0.3)\n",
    "\n",
    "plt.tight_layout()\n",
    "plt.show()\n",
    "\n",
    "# Best model identification\n",
    "best_model_name = results_df['RMSE'].idxmin()\n",
    "best_rmse = results_df.loc[best_model_name, 'RMSE']\n",
    "print(f\"\\nBest Performing Model: {best_model_name}\")\n",
    "print(f\"   Best RMSE: {best_rmse:.4f}\")\n",
    "print(f\"   R² Score: {results_df.loc[best_model_name, 'R2']:.4f}\")"
   ],
   "id": "c01c8b84707b1a28",
   "outputs": [
    {
     "name": "stdout",
     "output_type": "stream",
     "text": [
      "=== MODEL COMPARISON SUMMARY ===\n",
      "\n",
      "Model Performance (sorted by RMSE):\n"
     ]
    },
    {
     "data": {
      "text/plain": [
       "                     RMSE     MAE      R2\n",
       "Gradient Boosting  0.3946  0.2807  0.6961\n",
       "Random Forest      0.4056  0.2873  0.6788\n",
       "Linear Regression  0.4167  0.3039  0.6611\n",
       "Ridge              0.4172  0.3042  0.6602\n",
       "Lasso              0.4202  0.3062  0.6553\n",
       "Decision Tree      0.4436  0.3215  0.6159\n",
       "Baseline           0.7159  0.5607 -0.0003"
      ],
      "text/html": [
       "<div>\n",
       "<style scoped>\n",
       "    .dataframe tbody tr th:only-of-type {\n",
       "        vertical-align: middle;\n",
       "    }\n",
       "\n",
       "    .dataframe tbody tr th {\n",
       "        vertical-align: top;\n",
       "    }\n",
       "\n",
       "    .dataframe thead th {\n",
       "        text-align: right;\n",
       "    }\n",
       "</style>\n",
       "<table border=\"1\" class=\"dataframe\">\n",
       "  <thead>\n",
       "    <tr style=\"text-align: right;\">\n",
       "      <th></th>\n",
       "      <th>RMSE</th>\n",
       "      <th>MAE</th>\n",
       "      <th>R2</th>\n",
       "    </tr>\n",
       "  </thead>\n",
       "  <tbody>\n",
       "    <tr>\n",
       "      <th>Gradient Boosting</th>\n",
       "      <td>0.3946</td>\n",
       "      <td>0.2807</td>\n",
       "      <td>0.6961</td>\n",
       "    </tr>\n",
       "    <tr>\n",
       "      <th>Random Forest</th>\n",
       "      <td>0.4056</td>\n",
       "      <td>0.2873</td>\n",
       "      <td>0.6788</td>\n",
       "    </tr>\n",
       "    <tr>\n",
       "      <th>Linear Regression</th>\n",
       "      <td>0.4167</td>\n",
       "      <td>0.3039</td>\n",
       "      <td>0.6611</td>\n",
       "    </tr>\n",
       "    <tr>\n",
       "      <th>Ridge</th>\n",
       "      <td>0.4172</td>\n",
       "      <td>0.3042</td>\n",
       "      <td>0.6602</td>\n",
       "    </tr>\n",
       "    <tr>\n",
       "      <th>Lasso</th>\n",
       "      <td>0.4202</td>\n",
       "      <td>0.3062</td>\n",
       "      <td>0.6553</td>\n",
       "    </tr>\n",
       "    <tr>\n",
       "      <th>Decision Tree</th>\n",
       "      <td>0.4436</td>\n",
       "      <td>0.3215</td>\n",
       "      <td>0.6159</td>\n",
       "    </tr>\n",
       "    <tr>\n",
       "      <th>Baseline</th>\n",
       "      <td>0.7159</td>\n",
       "      <td>0.5607</td>\n",
       "      <td>-0.0003</td>\n",
       "    </tr>\n",
       "  </tbody>\n",
       "</table>\n",
       "</div>"
      ]
     },
     "metadata": {},
     "output_type": "display_data"
    },
    {
     "data": {
      "text/plain": [
       "<Figure size 1800x600 with 3 Axes>"
      ],
      "image/png": "[encoded data removed]"
     },
     "metadata": {},
     "output_type": "display_data"
    },
    {
     "name": "stdout",
     "output_type": "stream",
     "text": [
      "\n",
      "Best Performing Model: Gradient Boosting\n",
      "   Best RMSE: 0.3946\n",
      "   R² Score: 0.6961\n"
     ]
    }
   ],
   "execution_count": 43
  },
  {
   "metadata": {},
   "cell_type": "markdown",
   "source": "## 7. Cross-Validation Analysis",
   "id": "9968b4b546c94f87"
  },
  {
   "metadata": {
    "ExecuteTime": {
     "end_time": "2025-07-03T12:27:29.494200Z",
     "start_time": "2025-07-03T12:26:58.484420Z"
    }
   },
   "cell_type": "code",
   "source": [
    "# Cross-validation for top models\n",
    "print(\"=== CROSS-VALIDATION ANALYSIS ===\")\n",
    "\n",
    "# Select top 3 models for detailed CV analysis\n",
    "top_3_models = results_df.head(3).index.tolist()\n",
    "print(f\"Evaluating top 3 models with 5-fold CV: {top_3_models}\")\n",
    "\n",
    "# Models dictionary for CV\n",
    "models_dict = {\n",
    "    'Linear Regression': lr_pipeline,\n",
    "    'Ridge': ridge_pipeline,\n",
    "    'Lasso': lasso_pipeline,\n",
    "    'Decision Tree': dt,\n",
    "    'Random Forest': rf,\n",
    "    'Gradient Boosting': gb\n",
    "}\n",
    "\n",
    "cv_results = {}\n",
    "for model_name in top_3_models:\n",
    "    if model_name in models_dict:\n",
    "        model = models_dict[model_name]\n",
    "        \n",
    "        # 5-fold cross-validation\n",
    "        cv_scores = cross_val_score(\n",
    "            model, X_train, y_train, \n",
    "            cv=5, \n",
    "            scoring='neg_mean_squared_error',\n",
    "            n_jobs=-1\n",
    "        )\n",
    "        cv_rmse = np.sqrt(-cv_scores)\n",
    "        \n",
    "        cv_results[model_name] = {\n",
    "            'CV_RMSE_mean': cv_rmse.mean(),\n",
    "            'CV_RMSE_std': cv_rmse.std(),\n",
    "            'CV_scores': cv_rmse\n",
    "        }\n",
    "        \n",
    "        print(f\"\\n{model_name}:\")\n",
    "        print(f\"  CV RMSE: {cv_rmse.mean():.4f} ± {cv_rmse.std():.4f}\")\n",
    "        print(f\"  Individual folds: {[f'{score:.4f}' for score in cv_rmse]}\")\n",
    "\n",
    "# CV Results DataFrame\n",
    "cv_summary = pd.DataFrame({k: {\n",
    "    'CV_RMSE_mean': v['CV_RMSE_mean'], \n",
    "    'CV_RMSE_std': v['CV_RMSE_std']\n",
    "} for k, v in cv_results.items()}).T\n",
    "\n",
    "print(f\"\\nCross-Validation Summary:\")\n",
    "display(cv_summary.round(4))"
   ],
   "id": "c0f4af680784af99",
   "outputs": [
    {
     "name": "stdout",
     "output_type": "stream",
     "text": [
      "=== CROSS-VALIDATION ANALYSIS ===\n",
      "Evaluating top 3 models with 5-fold CV: ['Gradient Boosting', 'Random Forest', 'Linear Regression']\n",
      "\n",
      "Gradient Boosting:\n",
      "  CV RMSE: 0.3886 ± 0.0080\n",
      "  Individual folds: ['0.3853', '0.3934', '0.3776', '0.4012', '0.3855']\n",
      "\n",
      "Random Forest:\n",
      "  CV RMSE: 0.4008 ± 0.0074\n",
      "  Individual folds: ['0.3982', '0.4063', '0.3911', '0.4119', '0.3964']\n",
      "\n",
      "Linear Regression:\n",
      "  CV RMSE: 0.4144 ± 0.0058\n",
      "  Individual folds: ['0.4110', '0.4182', '0.4078', '0.4239', '0.4112']\n",
      "\n",
      "Cross-Validation Summary:\n"
     ]
    },
    {
     "data": {
      "text/plain": [
       "                   CV_RMSE_mean  CV_RMSE_std\n",
       "Gradient Boosting        0.3886       0.0080\n",
       "Random Forest            0.4008       0.0074\n",
       "Linear Regression        0.4144       0.0058"
      ],
      "text/html": [
       "<div>\n",
       "<style scoped>\n",
       "    .dataframe tbody tr th:only-of-type {\n",
       "        vertical-align: middle;\n",
       "    }\n",
       "\n",
       "    .dataframe tbody tr th {\n",
       "        vertical-align: top;\n",
       "    }\n",
       "\n",
       "    .dataframe thead th {\n",
       "        text-align: right;\n",
       "    }\n",
       "</style>\n",
       "<table border=\"1\" class=\"dataframe\">\n",
       "  <thead>\n",
       "    <tr style=\"text-align: right;\">\n",
       "      <th></th>\n",
       "      <th>CV_RMSE_mean</th>\n",
       "      <th>CV_RMSE_std</th>\n",
       "    </tr>\n",
       "  </thead>\n",
       "  <tbody>\n",
       "    <tr>\n",
       "      <th>Gradient Boosting</th>\n",
       "      <td>0.3886</td>\n",
       "      <td>0.0080</td>\n",
       "    </tr>\n",
       "    <tr>\n",
       "      <th>Random Forest</th>\n",
       "      <td>0.4008</td>\n",
       "      <td>0.0074</td>\n",
       "    </tr>\n",
       "    <tr>\n",
       "      <th>Linear Regression</th>\n",
       "      <td>0.4144</td>\n",
       "      <td>0.0058</td>\n",
       "    </tr>\n",
       "  </tbody>\n",
       "</table>\n",
       "</div>"
      ]
     },
     "metadata": {},
     "output_type": "display_data"
    }
   ],
   "execution_count": 44
  },
  {
   "metadata": {},
   "cell_type": "markdown",
   "source": [
    "### Cross-Validation Confirms Best Model\n",
    "| Model | CV RMSE | Stability |\n",
    "|-------|---------|--------|\n",
    "| **Gradient Boosting** | 0.3886 | ±0.008 |\n",
    "| Random Forest | 0.4008 | ±0.007 |\n",
    "| Linear Regression | 0.4144 | ±0.006 |\n",
    "\n",
    "**Gradient Boosting** = most accurate + most stable"
   ],
   "id": "ab11a8f42d04ea1c"
  },
  {
   "metadata": {},
   "cell_type": "markdown",
   "source": "## 8. Final Model Selection and Predictions",
   "id": "f38c6d8146200ce0"
  },
  {
   "metadata": {
    "ExecuteTime": {
     "end_time": "2025-07-03T12:55:30.162294Z",
     "start_time": "2025-07-03T12:55:30.135397Z"
    }
   },
   "cell_type": "code",
   "source": [
    "print(\"=== CLEANING FINAL NaN VALUES ===\")\n",
    "\n",
    "print(\"Missing values check:\")\n",
    "print(f\"X_train NaN: {X_train.isnull().sum().sum()}\")\n",
    "print(f\"X_test NaN: {X_test.isnull().sum().sum()}\")\n",
    "\n",
    "if X_test.isnull().sum().sum() > 0:\n",
    "    print(f\"\\nNaN columns in X_test:\")\n",
    "    nan_cols = X_test.columns[X_test.isnull().any()].tolist()\n",
    "    for col in nan_cols:\n",
    "        nan_count = X_test[col].isnull().sum()\n",
    "        print(f\"  {col}: {nan_count} NaN values\")\n",
    "    \n",
    "    # Fill remaining NaN with 0 (safe for binary and scaled features)\n",
    "    print(f\"\\nFilling remaining NaN values with 0...\")\n",
    "    X_test_clean = X_test.fillna(0)\n",
    "    X_train_clean = X_train.fillna(0)\n",
    "    \n",
    "    print(f\"After cleaning:\")\n",
    "    print(f\"X_train NaN: {X_train_clean.isnull().sum().sum()}\")\n",
    "    print(f\"X_test NaN: {X_test_clean.isnull().sum().sum()}\")\n",
    "    \n",
    "    # Update the variables\n",
    "    X_train = X_train_clean\n",
    "    X_test = X_test_clean\n",
    "    \n",
    "    print(\"✅ Data cleaned successfully\")"
   ],
   "id": "f4752c4bc7ff86b0",
   "outputs": [
    {
     "name": "stdout",
     "output_type": "stream",
     "text": [
      "=== CLEANING FINAL NaN VALUES ===\n",
      "Missing values check:\n",
      "X_train NaN: 0\n",
      "X_test NaN: 0\n"
     ]
    }
   ],
   "execution_count": 52
  },
  {
   "metadata": {
    "ExecuteTime": {
     "end_time": "2025-07-03T12:55:59.814200Z",
     "start_time": "2025-07-03T12:55:41.649582Z"
    }
   },
   "cell_type": "code",
   "source": [
    "# Final model selection and test predictions\n",
    "print(\"=== FINAL MODEL SELECTION ===\")\n",
    "\n",
    "# Best model based on CV results: Gradient Boosting\n",
    "final_model_name = \"Gradient Boosting\"\n",
    "final_model = gb\n",
    "\n",
    "print(f\"Selected Model: {final_model_name}\")\n",
    "print(f\"Cross-Validation RMSE: 0.3890 ± 0.0082\")\n",
    "print(f\"Validation RMSE: {results_df.loc[final_model_name, 'RMSE']:.4f}\")\n",
    "print(f\"Superior performance over Random Forest (0.4009) and Linear Regression (0.4144)\")\n",
    "\n",
    "# Retrain on full training data\n",
    "print(f\"\\nRetraining {final_model_name} on full training data...\")\n",
    "final_model.fit(X_train, y_train)\n",
    "\n",
    "# Generate predictions for test set\n",
    "print(\"Generating predictions for test set...\")\n",
    "test_predictions = final_model.predict(X_test)\n",
    "\n",
    "print(f\"\\nPrediction Statistics:\")\n",
    "print(f\"  Number of predictions: {len(test_predictions)}\")\n",
    "print(f\"  Prediction range: {test_predictions.min():.3f} to {test_predictions.max():.3f}\")\n",
    "print(f\"  Prediction mean: {test_predictions.mean():.3f}\")\n",
    "print(f\"  Prediction std: {test_predictions.std():.3f}\")\n",
    "\n",
    "# Convert back to price scale for interpretation\n",
    "price_predictions = np.exp(test_predictions)\n",
    "print(f\"\\nPrice scale (exp(log_price)):\")\n",
    "print(f\"  Price range: ${price_predictions.min():.0f} to ${price_predictions.max():.0f}\")\n",
    "print(f\"  Average predicted price: ${price_predictions.mean():.0f}\")\n",
    "\n",
    "# Load original test data to get IDs\n",
    "test_data_original = pd.read_csv('airbnb_test.csv')\n",
    "\n",
    "# Verify we have the right number of predictions and IDs\n",
    "print(f\"Test predictions: {len(test_predictions)}\")\n",
    "print(f\"Original test IDs: {len(test_data_original)}\")\n",
    "\n",
    "submission = pd.DataFrame({\n",
    "    'id': test_data_original['Unnamed: 0'],\n",
    "    'prediction': test_predictions\n",
    "})\n",
    "\n",
    "# Save predictions\n",
    "submission.to_csv('prediction.csv', index=False)\n",
    "print(f\"\\nPredictions saved to 'prediction.csv'\")\n",
    "print(f\"   Submission file shape: {submission.shape}\")\n",
    "\n",
    "# Display sample predictions\n",
    "print(f\"\\nSample Predictions:\")\n",
    "sample_display = submission.head(10).copy()\n",
    "sample_display['price_estimate'] = np.exp(sample_display['prediction'])\n",
    "display(sample_display[['id', 'prediction', 'price_estimate']])"
   ],
   "id": "77e4d563c62e28f5",
   "outputs": [
    {
     "name": "stdout",
     "output_type": "stream",
     "text": [
      "=== FINAL MODEL SELECTION ===\n",
      "Selected Model: Gradient Boosting\n",
      "Cross-Validation RMSE: 0.3890 ± 0.0082\n",
      "Validation RMSE: 0.3946\n",
      "Superior performance over Random Forest (0.4009) and Linear Regression (0.4144)\n",
      "\n",
      "Retraining Gradient Boosting on full training data...\n",
      "Generating predictions for test set...\n",
      "\n",
      "Prediction Statistics:\n",
      "  Number of predictions: 51877\n",
      "  Prediction range: 2.668 to 7.568\n",
      "  Prediction mean: 4.784\n",
      "  Prediction std: 0.597\n",
      "\n",
      "Price scale (exp(log_price)):\n",
      "  Price range: $14 to $1935\n",
      "  Average predicted price: $146\n",
      "Test predictions: 51877\n",
      "Original test IDs: 51877\n",
      "\n",
      "Predictions saved to 'prediction.csv'\n",
      "   Submission file shape: (51877, 2)\n",
      "\n",
      "Sample Predictions:\n"
     ]
    },
    {
     "data": {
      "text/plain": [
       "         id  prediction  price_estimate\n",
       "0  14282777    4.905812      135.072524\n",
       "1  17029381    5.670676      290.230693\n",
       "2   7824740    4.989160      146.813057\n",
       "3  19811650    5.997248      402.320219\n",
       "4  12410741    4.556586       95.257699\n",
       "5  19589738    4.693149      109.196453\n",
       "6  15470255    4.808532      122.551638\n",
       "7   6128434    4.934686      139.029495\n",
       "8  18358465    4.659309      105.563149\n",
       "9   8760362    3.523745       33.911188"
      ],
      "text/html": [
       "<div>\n",
       "<style scoped>\n",
       "    .dataframe tbody tr th:only-of-type {\n",
       "        vertical-align: middle;\n",
       "    }\n",
       "\n",
       "    .dataframe tbody tr th {\n",
       "        vertical-align: top;\n",
       "    }\n",
       "\n",
       "    .dataframe thead th {\n",
       "        text-align: right;\n",
       "    }\n",
       "</style>\n",
       "<table border=\"1\" class=\"dataframe\">\n",
       "  <thead>\n",
       "    <tr style=\"text-align: right;\">\n",
       "      <th></th>\n",
       "      <th>id</th>\n",
       "      <th>prediction</th>\n",
       "      <th>price_estimate</th>\n",
       "    </tr>\n",
       "  </thead>\n",
       "  <tbody>\n",
       "    <tr>\n",
       "      <th>0</th>\n",
       "      <td>14282777</td>\n",
       "      <td>4.905812</td>\n",
       "      <td>135.072524</td>\n",
       "    </tr>\n",
       "    <tr>\n",
       "      <th>1</th>\n",
       "      <td>17029381</td>\n",
       "      <td>5.670676</td>\n",
       "      <td>290.230693</td>\n",
       "    </tr>\n",
       "    <tr>\n",
       "      <th>2</th>\n",
       "      <td>7824740</td>\n",
       "      <td>4.989160</td>\n",
       "      <td>146.813057</td>\n",
       "    </tr>\n",
       "    <tr>\n",
       "      <th>3</th>\n",
       "      <td>19811650</td>\n",
       "      <td>5.997248</td>\n",
       "      <td>402.320219</td>\n",
       "    </tr>\n",
       "    <tr>\n",
       "      <th>4</th>\n",
       "      <td>12410741</td>\n",
       "      <td>4.556586</td>\n",
       "      <td>95.257699</td>\n",
       "    </tr>\n",
       "    <tr>\n",
       "      <th>5</th>\n",
       "      <td>19589738</td>\n",
       "      <td>4.693149</td>\n",
       "      <td>109.196453</td>\n",
       "    </tr>\n",
       "    <tr>\n",
       "      <th>6</th>\n",
       "      <td>15470255</td>\n",
       "      <td>4.808532</td>\n",
       "      <td>122.551638</td>\n",
       "    </tr>\n",
       "    <tr>\n",
       "      <th>7</th>\n",
       "      <td>6128434</td>\n",
       "      <td>4.934686</td>\n",
       "      <td>139.029495</td>\n",
       "    </tr>\n",
       "    <tr>\n",
       "      <th>8</th>\n",
       "      <td>18358465</td>\n",
       "      <td>4.659309</td>\n",
       "      <td>105.563149</td>\n",
       "    </tr>\n",
       "    <tr>\n",
       "      <th>9</th>\n",
       "      <td>8760362</td>\n",
       "      <td>3.523745</td>\n",
       "      <td>33.911188</td>\n",
       "    </tr>\n",
       "  </tbody>\n",
       "</table>\n",
       "</div>"
      ]
     },
     "metadata": {},
     "output_type": "display_data"
    }
   ],
   "execution_count": 53
  },
  {
   "metadata": {},
   "cell_type": "markdown",
   "source": [
    "## Model Selection Justification\n",
    "\n",
    "### Why Gradient Boosting?\n",
    "\n",
    "**Performance Superiority:**\n",
    "- **Best Cross-Validation RMSE:** 0.3890 (±0.0082) vs Random Forest 0.4009 and Linear Regression 0.4144\n",
    "- **Consistent Performance:** Low standard deviation indicates stable predictions across different data splits\n",
    "- **Significant Improvement:** ~3% better than Random Forest, ~6.5% better than Linear Regression\n",
    "\n",
    "**Technical Advantages:**\n",
    "- **Non-linear Relationships:** Captures complex interactions between features (accommodates, location, amenities)\n",
    "- **Feature Handling:** Robust to different feature scales and types in our engineered dataset\n",
    "- **Bias-Variance Balance:** Sequential learning reduces both bias and variance effectively\n",
    "\n",
    "**Business Context:**\n",
    "- **Price Prediction Accuracy:** Lower RMSE means more accurate price estimates for Airbnb hosts\n",
    "- **Model Reliability:** Consistent CV performance suggests good generalization to unseen listings\n",
    "- **Feature Interpretability:** Provides clear feature importance for business insights\n",
    "\n",
    "### Final Decision\n",
    "Gradient Boosting offers the best balance of **accuracy**, **stability**, and **interpretability** for this price prediction task."
   ],
   "id": "44258964ac139979"
  },
  {
   "metadata": {},
   "cell_type": "markdown",
   "source": "## 9. Final Analysis and Feature Importance",
   "id": "595d10fca0c9b976"
  },
  {
   "metadata": {
    "ExecuteTime": {
     "end_time": "2025-07-03T12:41:09.798975Z",
     "start_time": "2025-07-03T12:41:09.615204Z"
    }
   },
   "cell_type": "code",
   "source": [
    "#Final model analysis\n",
    "print(\"=== FINAL MODEL ANALYSIS ===\")\n",
    "\n",
    "print(f\"Best Model: {final_model_name}\")\n",
    "print(f\"Final Performance:\")\n",
    "print(f\"   Validation RMSE: {results_df.loc[final_model_name, 'RMSE']:.4f}\")\n",
    "print(f\"   Validation R²: {results_df.loc[final_model_name, 'R2']:.4f}\")\n",
    "print(f\"   Validation MAE: {results_df.loc[final_model_name, 'MAE']:.4f}\")\n",
    "\n",
    "# Feature importance visualization\n",
    "if hasattr(final_model, 'feature_importances_'):\n",
    "    print(f\"\\nFeature Importance Analysis:\")\n",
    "    \n",
    "    final_importance = pd.DataFrame({\n",
    "        'feature': X_train.columns,\n",
    "        'importance': final_model.feature_importances_\n",
    "    }).sort_values('importance', ascending=False)\n",
    "    \n",
    "    print(f\"\\nTop 10 Most Important Features:\")\n",
    "    for i, (_, row) in enumerate(final_importance.head(10).iterrows()):\n",
    "        print(f\"  {i+1:2d}. {row['feature']:<25}: {row['importance']:.4f}\")\n",
    "    \n",
    "    # Plot feature importance\n",
    "    plt.figure(figsize=(12, 8))\n",
    "    top_features = final_importance.head(15)\n",
    "    bars = plt.barh(range(len(top_features)), top_features['importance'], alpha=0.8)\n",
    "    plt.yticks(range(len(top_features)), top_features['feature'])\n",
    "    plt.xlabel('Feature Importance', fontsize=12)\n",
    "    plt.title(f'Top 15 Feature Importances - {final_model_name}', fontsize=14)\n",
    "    plt.gca().invert_yaxis()\n",
    "    \n",
    "    # Add value labels on bars\n",
    "    for i, bar in enumerate(bars):\n",
    "        width = bar.get_width()\n",
    "        plt.text(width + 0.001, bar.get_y() + bar.get_height()/2, \n",
    "                f'{width:.3f}', ha='left', va='center', fontsize=10)\n",
    "    \n",
    "    plt.grid(True, alpha=0.3)\n",
    "    plt.tight_layout()\n",
    "    plt.show()\n",
    "\n",
    "elif hasattr(final_model, 'named_steps') and hasattr(final_model.named_steps['regressor'], 'coef_'):\n",
    "    print(f\"\\nLinear Model Coefficients Analysis:\")\n",
    "    \n",
    "    coef_importance = pd.DataFrame({\n",
    "        'feature': X_train.columns,\n",
    "        'coefficient': final_model.named_steps['regressor'].coef_,\n",
    "        'abs_coefficient': np.abs(final_model.named_steps['regressor'].coef_)\n",
    "    }).sort_values('abs_coefficient', ascending=False)\n",
    "    \n",
    "    print(f\"\\nTop 10 Most Important Features (by |coefficient|):\")\n",
    "    for i, (_, row) in enumerate(coef_importance.head(10).iterrows()):\n",
    "        print(f\"  {i+1:2d}. {row['feature']:<25}: {row['coefficient']:8.4f}\")\n",
    "\n",
    "# Final summary\n",
    "print(f\"\\n\" + \"=\"*60)\n",
    "print(f\"🚀 MODEL DEPLOYMENT SUMMARY\")\n",
    "print(f\"=\"*60)\n",
    "print(f\"✅ Data Preprocessing: 36 → 62 features\")\n",
    "print(f\"✅ Models Evaluated: {len(model_results)} different algorithms\")\n",
    "print(f\"✅ Best Model: {final_model_name}\")\n",
    "print(f\"✅ Performance: RMSE = {results_df.loc[final_model_name, 'RMSE']:.4f}\")\n",
    "print(f\"✅ Predictions Generated: {len(test_predictions):,} samples\")\n",
    "print(f\"✅ Submission Ready: prediction.csv\")\n",
    "print(f\"=\"*60)"
   ],
   "id": "b157a093b5d8cba1",
   "outputs": [
    {
     "name": "stdout",
     "output_type": "stream",
     "text": [
      "=== FINAL MODEL ANALYSIS ===\n",
      "Best Model: Gradient Boosting\n",
      "Final Performance:\n",
      "   Validation RMSE: 0.3946\n",
      "   Validation R²: 0.6961\n",
      "   Validation MAE: 0.2807\n",
      "\n",
      "Feature Importance Analysis:\n",
      "\n",
      "Top 10 Most Important Features:\n",
      "   1. room_type_Private room   : 0.2465\n",
      "   2. neighbourhood_target_encoded: 0.1729\n",
      "   3. accommodates             : 0.1478\n",
      "   4. bedrooms                 : 0.1156\n",
      "   5. room_type_Shared room    : 0.0673\n",
      "   6. bathrooms                : 0.0294\n",
      "   7. is_luxury                : 0.0287\n",
      "   8. days_since_last_review   : 0.0246\n",
      "   9. longitude                : 0.0209\n",
      "  10. distance_to_city_center  : 0.0183\n"
     ]
    },
    {
     "data": {
      "text/plain": [
       "<Figure size 1200x800 with 1 Axes>"
      ],
      "image/png": "[encoded data removed]"
     },
     "metadata": {},
     "output_type": "display_data"
    },
    {
     "name": "stdout",
     "output_type": "stream",
     "text": [
      "\n",
      "============================================================\n",
      "🚀 MODEL DEPLOYMENT SUMMARY\n",
      "============================================================\n",
      "✅ Data Preprocessing: 36 → 62 features\n",
      "✅ Models Evaluated: 7 different algorithms\n",
      "✅ Best Model: Gradient Boosting\n",
      "✅ Performance: RMSE = 0.3946\n",
      "✅ Predictions Generated: 51,877 samples\n",
      "✅ Submission Ready: prediction.csv\n",
      "============================================================\n"
     ]
    }
   ],
   "execution_count": 51
  },
  {
   "metadata": {},
   "cell_type": "code",
   "outputs": [],
   "execution_count": null,
   "source": "",
   "id": "91a9061b36f24bb5"
  }
 ],
 "metadata": {
  "kernelspec": {
   "display_name": "Python 3",
   "language": "python",
   "name": "python3"
  },
  "language_info": {
   "codemirror_mode": {
    "name": "ipython",
    "version": 2
   },
   "file_extension": ".py",
   "mimetype": "text/x-python",
   "name": "python",
   "nbconvert_exporter": "python",
   "pygments_lexer": "ipython2",
   "version": "2.7.6"
  }
 },
 "nbformat": 4,
 "nbformat_minor": 5
}
